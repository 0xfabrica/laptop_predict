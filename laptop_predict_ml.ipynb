{
  "nbformat": 4,
  "nbformat_minor": 0,
  "metadata": {
    "colab": {
      "provenance": []
    },
    "kernelspec": {
      "name": "python3",
      "display_name": "Python 3"
    },
    "language_info": {
      "name": "python"
    }
  },
  "cells": [
    {
      "cell_type": "markdown",
      "source": [
        "# Módulos"
      ],
      "metadata": {
        "id": "_tdR_7GZ8O9Z"
      }
    },
    {
      "cell_type": "code",
      "execution_count": 128,
      "metadata": {
        "id": "qrH87wU18Avu"
      },
      "outputs": [],
      "source": [
        "import pandas as pd\n",
        "import numpy as np\n",
        "from sklearn.model_selection import train_test_split, GridSearchCV # Dividir set de datos # Busca en una cuadricula la mejor combinacion de hiperparametros\n",
        "from sklearn.ensemble import RandomForestRegressor # Algoritmo de ML que usaremos\n",
        "\n",
        "import warnings\n",
        "warnings.filterwarnings('ignore')"
      ]
    },
    {
      "cell_type": "markdown",
      "source": [
        "# Lectura de datos"
      ],
      "metadata": {
        "id": "Hy8OsT3K8Qy3"
      }
    },
    {
      "cell_type": "code",
      "source": [
        "df = pd.read_csv('laptop_prices.csv')\n",
        "df.info()"
      ],
      "metadata": {
        "colab": {
          "base_uri": "https://localhost:8080/"
        },
        "id": "nrmcP4rM8Oec",
        "outputId": "c9b7bb84-a279-412a-99ce-d198283a31a0"
      },
      "execution_count": 129,
      "outputs": [
        {
          "output_type": "stream",
          "name": "stdout",
          "text": [
            "<class 'pandas.core.frame.DataFrame'>\n",
            "RangeIndex: 1275 entries, 0 to 1274\n",
            "Data columns (total 23 columns):\n",
            " #   Column                Non-Null Count  Dtype  \n",
            "---  ------                --------------  -----  \n",
            " 0   Company               1275 non-null   object \n",
            " 1   Product               1275 non-null   object \n",
            " 2   TypeName              1275 non-null   object \n",
            " 3   Inches                1275 non-null   float64\n",
            " 4   Ram                   1275 non-null   int64  \n",
            " 5   OS                    1275 non-null   object \n",
            " 6   Weight                1275 non-null   float64\n",
            " 7   Price_euros           1275 non-null   float64\n",
            " 8   Screen                1275 non-null   object \n",
            " 9   ScreenW               1275 non-null   int64  \n",
            " 10  ScreenH               1275 non-null   int64  \n",
            " 11  Touchscreen           1275 non-null   object \n",
            " 12  IPSpanel              1275 non-null   object \n",
            " 13  RetinaDisplay         1275 non-null   object \n",
            " 14  CPU_company           1275 non-null   object \n",
            " 15  CPU_freq              1275 non-null   float64\n",
            " 16  CPU_model             1275 non-null   object \n",
            " 17  PrimaryStorage        1275 non-null   int64  \n",
            " 18  SecondaryStorage      1275 non-null   int64  \n",
            " 19  PrimaryStorageType    1275 non-null   object \n",
            " 20  SecondaryStorageType  1275 non-null   object \n",
            " 21  GPU_company           1275 non-null   object \n",
            " 22  GPU_model             1275 non-null   object \n",
            "dtypes: float64(4), int64(5), object(14)\n",
            "memory usage: 229.2+ KB\n"
          ]
        }
      ]
    },
    {
      "cell_type": "markdown",
      "source": [
        "# Codificación One-Hot\n"
      ],
      "metadata": {
        "id": "Nb8OHRi6BkMz"
      }
    },
    {
      "cell_type": "markdown",
      "source": [
        "¿Cómo funciona la codificación one-hot?\n",
        "<br></br>\n",
        "- Para cada variable categórica, crea nuevas columnas binarias (0 o 1) que representan cada categoría."
      ],
      "metadata": {
        "id": "IsgKm8wBBmfj"
      }
    },
    {
      "cell_type": "code",
      "source": [
        "#Para determinar qué columnas añadir a get_dummies, inspecciona tu df y considera qué columnas contienen variables categóricas que te gustaría convertir a variables numéricas.\n",
        "\n",
        "df = pd.get_dummies(df, columns = [\"Company\",\"Product\",\"TypeName\",\"OS\",\"Screen\",\"Touchscreen\",\"IPSpanel\",\"RetinaDisplay\",\"CPU_company\",\"CPU_model\",\"PrimaryStorageType\",\"SecondaryStorageType\",\"GPU_company\",\"GPU_model\"] ,drop_first=True)\n"
      ],
      "metadata": {
        "id": "NYUrnnAE-9cQ"
      },
      "execution_count": 130,
      "outputs": []
    },
    {
      "cell_type": "code",
      "source": [
        "df.head(2)"
      ],
      "metadata": {
        "colab": {
          "base_uri": "https://localhost:8080/",
          "height": 179
        },
        "id": "4Gwrf5U0Eere",
        "outputId": "4343620c-63eb-4beb-d5a7-3afb1c685a72"
      },
      "execution_count": 131,
      "outputs": [
        {
          "output_type": "execute_result",
          "data": {
            "text/plain": [
              "   Inches  Ram  Weight  Price_euros  ScreenW  ScreenH  CPU_freq  \\\n",
              "0    13.3    8    1.37      1339.69     2560     1600       2.3   \n",
              "1    13.3    8    1.34       898.94     1440      900       1.8   \n",
              "\n",
              "   PrimaryStorage  SecondaryStorage  Company_Apple  ...  \\\n",
              "0             128                 0           True  ...   \n",
              "1             128                 0           True  ...   \n",
              "\n",
              "   GPU_model_Radeon R7 M440  GPU_model_Radeon R7 M445  \\\n",
              "0                     False                     False   \n",
              "1                     False                     False   \n",
              "\n",
              "   GPU_model_Radeon R7 M460  GPU_model_Radeon R7 M465  \\\n",
              "0                     False                     False   \n",
              "1                     False                     False   \n",
              "\n",
              "   GPU_model_Radeon R9 M385  GPU_model_Radeon RX 540  GPU_model_Radeon RX 550  \\\n",
              "0                     False                    False                    False   \n",
              "1                     False                    False                    False   \n",
              "\n",
              "   GPU_model_Radeon RX 560  GPU_model_Radeon RX 580  \\\n",
              "0                    False                    False   \n",
              "1                    False                    False   \n",
              "\n",
              "   GPU_model_UHD Graphics 620  \n",
              "0                       False  \n",
              "1                       False  \n",
              "\n",
              "[2 rows x 875 columns]"
            ],
            "text/html": [
              "\n",
              "  <div id=\"df-6b01d880-cf3c-45ce-8bee-07f5e0d48fb8\" class=\"colab-df-container\">\n",
              "    <div>\n",
              "<style scoped>\n",
              "    .dataframe tbody tr th:only-of-type {\n",
              "        vertical-align: middle;\n",
              "    }\n",
              "\n",
              "    .dataframe tbody tr th {\n",
              "        vertical-align: top;\n",
              "    }\n",
              "\n",
              "    .dataframe thead th {\n",
              "        text-align: right;\n",
              "    }\n",
              "</style>\n",
              "<table border=\"1\" class=\"dataframe\">\n",
              "  <thead>\n",
              "    <tr style=\"text-align: right;\">\n",
              "      <th></th>\n",
              "      <th>Inches</th>\n",
              "      <th>Ram</th>\n",
              "      <th>Weight</th>\n",
              "      <th>Price_euros</th>\n",
              "      <th>ScreenW</th>\n",
              "      <th>ScreenH</th>\n",
              "      <th>CPU_freq</th>\n",
              "      <th>PrimaryStorage</th>\n",
              "      <th>SecondaryStorage</th>\n",
              "      <th>Company_Apple</th>\n",
              "      <th>...</th>\n",
              "      <th>GPU_model_Radeon R7 M440</th>\n",
              "      <th>GPU_model_Radeon R7 M445</th>\n",
              "      <th>GPU_model_Radeon R7 M460</th>\n",
              "      <th>GPU_model_Radeon R7 M465</th>\n",
              "      <th>GPU_model_Radeon R9 M385</th>\n",
              "      <th>GPU_model_Radeon RX 540</th>\n",
              "      <th>GPU_model_Radeon RX 550</th>\n",
              "      <th>GPU_model_Radeon RX 560</th>\n",
              "      <th>GPU_model_Radeon RX 580</th>\n",
              "      <th>GPU_model_UHD Graphics 620</th>\n",
              "    </tr>\n",
              "  </thead>\n",
              "  <tbody>\n",
              "    <tr>\n",
              "      <th>0</th>\n",
              "      <td>13.3</td>\n",
              "      <td>8</td>\n",
              "      <td>1.37</td>\n",
              "      <td>1339.69</td>\n",
              "      <td>2560</td>\n",
              "      <td>1600</td>\n",
              "      <td>2.3</td>\n",
              "      <td>128</td>\n",
              "      <td>0</td>\n",
              "      <td>True</td>\n",
              "      <td>...</td>\n",
              "      <td>False</td>\n",
              "      <td>False</td>\n",
              "      <td>False</td>\n",
              "      <td>False</td>\n",
              "      <td>False</td>\n",
              "      <td>False</td>\n",
              "      <td>False</td>\n",
              "      <td>False</td>\n",
              "      <td>False</td>\n",
              "      <td>False</td>\n",
              "    </tr>\n",
              "    <tr>\n",
              "      <th>1</th>\n",
              "      <td>13.3</td>\n",
              "      <td>8</td>\n",
              "      <td>1.34</td>\n",
              "      <td>898.94</td>\n",
              "      <td>1440</td>\n",
              "      <td>900</td>\n",
              "      <td>1.8</td>\n",
              "      <td>128</td>\n",
              "      <td>0</td>\n",
              "      <td>True</td>\n",
              "      <td>...</td>\n",
              "      <td>False</td>\n",
              "      <td>False</td>\n",
              "      <td>False</td>\n",
              "      <td>False</td>\n",
              "      <td>False</td>\n",
              "      <td>False</td>\n",
              "      <td>False</td>\n",
              "      <td>False</td>\n",
              "      <td>False</td>\n",
              "      <td>False</td>\n",
              "    </tr>\n",
              "  </tbody>\n",
              "</table>\n",
              "<p>2 rows × 875 columns</p>\n",
              "</div>\n",
              "    <div class=\"colab-df-buttons\">\n",
              "\n",
              "  <div class=\"colab-df-container\">\n",
              "    <button class=\"colab-df-convert\" onclick=\"convertToInteractive('df-6b01d880-cf3c-45ce-8bee-07f5e0d48fb8')\"\n",
              "            title=\"Convert this dataframe to an interactive table.\"\n",
              "            style=\"display:none;\">\n",
              "\n",
              "  <svg xmlns=\"http://www.w3.org/2000/svg\" height=\"24px\" viewBox=\"0 -960 960 960\">\n",
              "    <path d=\"M120-120v-720h720v720H120Zm60-500h600v-160H180v160Zm220 220h160v-160H400v160Zm0 220h160v-160H400v160ZM180-400h160v-160H180v160Zm440 0h160v-160H620v160ZM180-180h160v-160H180v160Zm440 0h160v-160H620v160Z\"/>\n",
              "  </svg>\n",
              "    </button>\n",
              "\n",
              "  <style>\n",
              "    .colab-df-container {\n",
              "      display:flex;\n",
              "      gap: 12px;\n",
              "    }\n",
              "\n",
              "    .colab-df-convert {\n",
              "      background-color: #E8F0FE;\n",
              "      border: none;\n",
              "      border-radius: 50%;\n",
              "      cursor: pointer;\n",
              "      display: none;\n",
              "      fill: #1967D2;\n",
              "      height: 32px;\n",
              "      padding: 0 0 0 0;\n",
              "      width: 32px;\n",
              "    }\n",
              "\n",
              "    .colab-df-convert:hover {\n",
              "      background-color: #E2EBFA;\n",
              "      box-shadow: 0px 1px 2px rgba(60, 64, 67, 0.3), 0px 1px 3px 1px rgba(60, 64, 67, 0.15);\n",
              "      fill: #174EA6;\n",
              "    }\n",
              "\n",
              "    .colab-df-buttons div {\n",
              "      margin-bottom: 4px;\n",
              "    }\n",
              "\n",
              "    [theme=dark] .colab-df-convert {\n",
              "      background-color: #3B4455;\n",
              "      fill: #D2E3FC;\n",
              "    }\n",
              "\n",
              "    [theme=dark] .colab-df-convert:hover {\n",
              "      background-color: #434B5C;\n",
              "      box-shadow: 0px 1px 3px 1px rgba(0, 0, 0, 0.15);\n",
              "      filter: drop-shadow(0px 1px 2px rgba(0, 0, 0, 0.3));\n",
              "      fill: #FFFFFF;\n",
              "    }\n",
              "  </style>\n",
              "\n",
              "    <script>\n",
              "      const buttonEl =\n",
              "        document.querySelector('#df-6b01d880-cf3c-45ce-8bee-07f5e0d48fb8 button.colab-df-convert');\n",
              "      buttonEl.style.display =\n",
              "        google.colab.kernel.accessAllowed ? 'block' : 'none';\n",
              "\n",
              "      async function convertToInteractive(key) {\n",
              "        const element = document.querySelector('#df-6b01d880-cf3c-45ce-8bee-07f5e0d48fb8');\n",
              "        const dataTable =\n",
              "          await google.colab.kernel.invokeFunction('convertToInteractive',\n",
              "                                                    [key], {});\n",
              "        if (!dataTable) return;\n",
              "\n",
              "        const docLinkHtml = 'Like what you see? Visit the ' +\n",
              "          '<a target=\"_blank\" href=https://colab.research.google.com/notebooks/data_table.ipynb>data table notebook</a>'\n",
              "          + ' to learn more about interactive tables.';\n",
              "        element.innerHTML = '';\n",
              "        dataTable['output_type'] = 'display_data';\n",
              "        await google.colab.output.renderOutput(dataTable, element);\n",
              "        const docLink = document.createElement('div');\n",
              "        docLink.innerHTML = docLinkHtml;\n",
              "        element.appendChild(docLink);\n",
              "      }\n",
              "    </script>\n",
              "  </div>\n",
              "\n",
              "\n",
              "<div id=\"df-3fef3942-a2f6-4d59-8944-a4aef92ba3d6\">\n",
              "  <button class=\"colab-df-quickchart\" onclick=\"quickchart('df-3fef3942-a2f6-4d59-8944-a4aef92ba3d6')\"\n",
              "            title=\"Suggest charts\"\n",
              "            style=\"display:none;\">\n",
              "\n",
              "<svg xmlns=\"http://www.w3.org/2000/svg\" height=\"24px\"viewBox=\"0 0 24 24\"\n",
              "     width=\"24px\">\n",
              "    <g>\n",
              "        <path d=\"M19 3H5c-1.1 0-2 .9-2 2v14c0 1.1.9 2 2 2h14c1.1 0 2-.9 2-2V5c0-1.1-.9-2-2-2zM9 17H7v-7h2v7zm4 0h-2V7h2v10zm4 0h-2v-4h2v4z\"/>\n",
              "    </g>\n",
              "</svg>\n",
              "  </button>\n",
              "\n",
              "<style>\n",
              "  .colab-df-quickchart {\n",
              "      --bg-color: #E8F0FE;\n",
              "      --fill-color: #1967D2;\n",
              "      --hover-bg-color: #E2EBFA;\n",
              "      --hover-fill-color: #174EA6;\n",
              "      --disabled-fill-color: #AAA;\n",
              "      --disabled-bg-color: #DDD;\n",
              "  }\n",
              "\n",
              "  [theme=dark] .colab-df-quickchart {\n",
              "      --bg-color: #3B4455;\n",
              "      --fill-color: #D2E3FC;\n",
              "      --hover-bg-color: #434B5C;\n",
              "      --hover-fill-color: #FFFFFF;\n",
              "      --disabled-bg-color: #3B4455;\n",
              "      --disabled-fill-color: #666;\n",
              "  }\n",
              "\n",
              "  .colab-df-quickchart {\n",
              "    background-color: var(--bg-color);\n",
              "    border: none;\n",
              "    border-radius: 50%;\n",
              "    cursor: pointer;\n",
              "    display: none;\n",
              "    fill: var(--fill-color);\n",
              "    height: 32px;\n",
              "    padding: 0;\n",
              "    width: 32px;\n",
              "  }\n",
              "\n",
              "  .colab-df-quickchart:hover {\n",
              "    background-color: var(--hover-bg-color);\n",
              "    box-shadow: 0 1px 2px rgba(60, 64, 67, 0.3), 0 1px 3px 1px rgba(60, 64, 67, 0.15);\n",
              "    fill: var(--button-hover-fill-color);\n",
              "  }\n",
              "\n",
              "  .colab-df-quickchart-complete:disabled,\n",
              "  .colab-df-quickchart-complete:disabled:hover {\n",
              "    background-color: var(--disabled-bg-color);\n",
              "    fill: var(--disabled-fill-color);\n",
              "    box-shadow: none;\n",
              "  }\n",
              "\n",
              "  .colab-df-spinner {\n",
              "    border: 2px solid var(--fill-color);\n",
              "    border-color: transparent;\n",
              "    border-bottom-color: var(--fill-color);\n",
              "    animation:\n",
              "      spin 1s steps(1) infinite;\n",
              "  }\n",
              "\n",
              "  @keyframes spin {\n",
              "    0% {\n",
              "      border-color: transparent;\n",
              "      border-bottom-color: var(--fill-color);\n",
              "      border-left-color: var(--fill-color);\n",
              "    }\n",
              "    20% {\n",
              "      border-color: transparent;\n",
              "      border-left-color: var(--fill-color);\n",
              "      border-top-color: var(--fill-color);\n",
              "    }\n",
              "    30% {\n",
              "      border-color: transparent;\n",
              "      border-left-color: var(--fill-color);\n",
              "      border-top-color: var(--fill-color);\n",
              "      border-right-color: var(--fill-color);\n",
              "    }\n",
              "    40% {\n",
              "      border-color: transparent;\n",
              "      border-right-color: var(--fill-color);\n",
              "      border-top-color: var(--fill-color);\n",
              "    }\n",
              "    60% {\n",
              "      border-color: transparent;\n",
              "      border-right-color: var(--fill-color);\n",
              "    }\n",
              "    80% {\n",
              "      border-color: transparent;\n",
              "      border-right-color: var(--fill-color);\n",
              "      border-bottom-color: var(--fill-color);\n",
              "    }\n",
              "    90% {\n",
              "      border-color: transparent;\n",
              "      border-bottom-color: var(--fill-color);\n",
              "    }\n",
              "  }\n",
              "</style>\n",
              "\n",
              "  <script>\n",
              "    async function quickchart(key) {\n",
              "      const quickchartButtonEl =\n",
              "        document.querySelector('#' + key + ' button');\n",
              "      quickchartButtonEl.disabled = true;  // To prevent multiple clicks.\n",
              "      quickchartButtonEl.classList.add('colab-df-spinner');\n",
              "      try {\n",
              "        const charts = await google.colab.kernel.invokeFunction(\n",
              "            'suggestCharts', [key], {});\n",
              "      } catch (error) {\n",
              "        console.error('Error during call to suggestCharts:', error);\n",
              "      }\n",
              "      quickchartButtonEl.classList.remove('colab-df-spinner');\n",
              "      quickchartButtonEl.classList.add('colab-df-quickchart-complete');\n",
              "    }\n",
              "    (() => {\n",
              "      let quickchartButtonEl =\n",
              "        document.querySelector('#df-3fef3942-a2f6-4d59-8944-a4aef92ba3d6 button');\n",
              "      quickchartButtonEl.style.display =\n",
              "        google.colab.kernel.accessAllowed ? 'block' : 'none';\n",
              "    })();\n",
              "  </script>\n",
              "</div>\n",
              "\n",
              "    </div>\n",
              "  </div>\n"
            ],
            "application/vnd.google.colaboratory.intrinsic+json": {
              "type": "dataframe",
              "variable_name": "df"
            }
          },
          "metadata": {},
          "execution_count": 131
        }
      ]
    },
    {
      "cell_type": "markdown",
      "source": [
        "Ejemplo:\n",
        "- Si tu DataFrame df contiene una columna llamada \"Color\" con los valores \"Rojo\", \"Verde\" y \"Azul\", podrías usar get_dummies para crear tres nuevas columnas: \"Color_Rojo\", \"Color_Verde\" y \"Color_Azul\". Cada fila tendría un 1 en la columna correspondiente a su color y 0 en las demás."
      ],
      "metadata": {
        "id": "x64v1_UYFF0H"
      }
    },
    {
      "cell_type": "code",
      "source": [
        "df.info()"
      ],
      "metadata": {
        "colab": {
          "base_uri": "https://localhost:8080/"
        },
        "id": "zyTra_XSFM2X",
        "outputId": "92a517d6-450c-45f1-b5c0-173b89d63191"
      },
      "execution_count": 132,
      "outputs": [
        {
          "output_type": "stream",
          "name": "stdout",
          "text": [
            "<class 'pandas.core.frame.DataFrame'>\n",
            "RangeIndex: 1275 entries, 0 to 1274\n",
            "Columns: 875 entries, Inches to GPU_model_UHD Graphics 620\n",
            "dtypes: bool(866), float64(4), int64(5)\n",
            "memory usage: 1.1 MB\n"
          ]
        }
      ]
    },
    {
      "cell_type": "markdown",
      "source": [
        "- Se han creado 17 columnas nuevas de la columna 'Company'\n",
        "- Se han creado 2 columnas nuevas de la columna 'CPU_company'"
      ],
      "metadata": {
        "id": "uY8GJFToFWHg"
      }
    },
    {
      "cell_type": "markdown",
      "source": [
        "# Separación de Datos\n"
      ],
      "metadata": {
        "id": "7tW66ZWIG7yn"
      }
    },
    {
      "cell_type": "markdown",
      "source": [
        "- Este código es un paso fundamental en la preparación de datos para Machine Learning. Está separando las características de entrada de la variable objetivo."
      ],
      "metadata": {
        "id": "Ecx3McUOJ-L-"
      }
    },
    {
      "cell_type": "code",
      "source": [
        "y = df[\"Price_euros\"]\n",
        "x = df.drop(\"Price_euros\", axis = 1)"
      ],
      "metadata": {
        "id": "5KqYX52sJm3j"
      },
      "execution_count": 133,
      "outputs": []
    },
    {
      "cell_type": "markdown",
      "source": [
        "- Train Test Split divide los datos\n",
        "\n",
        "- Test Size Indica el porcentaje que se asigna al conjunto de prueba. El resto se usa para el train\n",
        "\n",
        "- Random State establece una semilla para el generador de números aleatorios. Esto garantiza que la división sea reproducible. Si ejecutas el código nuevamente, obtendrás la misma división."
      ],
      "metadata": {
        "id": "lbIfb1DqJ7tF"
      }
    },
    {
      "cell_type": "code",
      "source": [
        "x_train,x_test,y_train,y_test = train_test_split(x,y,test_size=0.30, random_state=42)\n",
        "# Si tienes un conjunto de datos muy grande, podrías usar un test_size más pequeño."
      ],
      "metadata": {
        "id": "Y-EBMC1rHFRx"
      },
      "execution_count": 134,
      "outputs": []
    },
    {
      "cell_type": "markdown",
      "source": [
        "x - Se divide en X_train (70% de los datos);  y X_test (30% de los datos)\n",
        "\n",
        "y - Se divide en Y_train (70% de los datos);  y Y_test (30% de los datos)"
      ],
      "metadata": {
        "id": "6blRWMn3IOEV"
      }
    },
    {
      "cell_type": "markdown",
      "source": [
        "- - -"
      ],
      "metadata": {
        "id": "1KicfLxHKXAQ"
      }
    },
    {
      "cell_type": "markdown",
      "source": [
        "# Creación del Modelo"
      ],
      "metadata": {
        "id": "yhq2welaLZn3"
      }
    },
    {
      "cell_type": "markdown",
      "source": [
        "**RandomForestRegressor** ; Crea una instancia del modelo. Se puede ajustar los hiperparametros dentro del parentesis\n",
        "\n",
        "**fit** ; Entrena el modelo 'rf' usando datos de x_train (caracteristicas) e 'y_train' (variable objetivo)\n",
        "\n",
        "**Score** ; Evalua el rendimiento usando los datos de prueba x_test e y_test"
      ],
      "metadata": {
        "id": "COzwa-eIK3jw"
      }
    },
    {
      "cell_type": "code",
      "source": [
        "rf = RandomForestRegressor(max_depth=15, min_samples_leaf=1, min_samples_split=5, n_estimators=200)\n",
        "model = rf.fit(x_train, y_train)\n",
        "model.score(x_test, y_test)"
      ],
      "metadata": {
        "colab": {
          "base_uri": "https://localhost:8080/"
        },
        "id": "14MZwfQrIbAb",
        "outputId": "a68ec8e9-e03a-4906-cda9-1afa91a64f8b"
      },
      "execution_count": 135,
      "outputs": [
        {
          "output_type": "execute_result",
          "data": {
            "text/plain": [
              "0.8537948533553863"
            ]
          },
          "metadata": {},
          "execution_count": 135
        }
      ]
    },
    {
      "cell_type": "markdown",
      "source": [
        "# Probamos modelo"
      ],
      "metadata": {
        "id": "C__pG3S8B9Te"
      }
    },
    {
      "cell_type": "markdown",
      "source": [
        "con y.iloc podemos ver el precio original de un laptop en los datos reales ya que con esta funcion podemos acceder a la información de una columna concreta"
      ],
      "metadata": {
        "id": "yK8ORa-6l4jB"
      }
    },
    {
      "cell_type": "code",
      "source": [
        "y.iloc[200]\n",
        "\n",
        "# y ; contiene la columna 'Price euros' del dataframe original\n",
        "# .iloc[] se usa para seleccionar datos por su posicion numerica en un objeto de pandas\n",
        "# [200]; indica que se quiere acceder al elemento en posición 200\n",
        "# Conclusión : dará el precio en euros del portátil en la fila 200 del DataFrame original."
      ],
      "metadata": {
        "colab": {
          "base_uri": "https://localhost:8080/"
        },
        "id": "CbcRogt2Qi9d",
        "outputId": "94306fcc-522d-4bb3-e176-0006f3fc621d"
      },
      "execution_count": 136,
      "outputs": [
        {
          "output_type": "execute_result",
          "data": {
            "text/plain": [
              "1845.0"
            ]
          },
          "metadata": {},
          "execution_count": 136
        }
      ]
    },
    {
      "cell_type": "markdown",
      "source": [
        "Con estas líneas de código buscamos la mejor combinación de hiperparametros"
      ],
      "metadata": {
        "id": "5IoNOt9hBM-T"
      }
    },
    {
      "cell_type": "code",
      "source": [
        "model.predict([x.iloc[200]])"
      ],
      "metadata": {
        "colab": {
          "base_uri": "https://localhost:8080/"
        },
        "id": "tcISnwp_lgbE",
        "outputId": "73d567c5-c1a3-4d63-a1d5-a6c2e9a35960"
      },
      "execution_count": 138,
      "outputs": [
        {
          "output_type": "execute_result",
          "data": {
            "text/plain": [
              "array([1940.85442493])"
            ]
          },
          "metadata": {},
          "execution_count": 138
        }
      ]
    },
    {
      "cell_type": "code",
      "source": [
        "model.predict([x.iloc[155]])"
      ],
      "metadata": {
        "colab": {
          "base_uri": "https://localhost:8080/"
        },
        "id": "q7awWAhOmVh1",
        "outputId": "8093dba0-a1d0-4723-9b90-b39839699a4e"
      },
      "execution_count": 139,
      "outputs": [
        {
          "output_type": "execute_result",
          "data": {
            "text/plain": [
              "array([749.1717117])"
            ]
          },
          "metadata": {},
          "execution_count": 139
        }
      ]
    },
    {
      "cell_type": "markdown",
      "source": [
        "Con estas líneas de código buscamos la mejor combinación de hiperparametros"
      ],
      "metadata": {
        "id": "tXpla-mxB4vI"
      }
    },
    {
      "cell_type": "code",
      "source": [
        "\"\"\"\n",
        "param_grid = {\n",
        "    'n_estimators': [100, 200, 300],\n",
        "    'max_depth': [5, 10, 15],\n",
        "    'min_samples_split': [2, 5, 10],\n",
        "    'min_samples_leaf': [1, 2, 4]\n",
        "\n",
        "grid_search = GridSearchCV(estimator=rf, param_grid=param_grid, cv=5)\n",
        "grid_search.fit(x_train, y_train)\n",
        "\n",
        "print(grid_search.best_params_)\n",
        "\"\"\""
      ],
      "metadata": {
        "id": "7S0pmZwomvrw"
      },
      "execution_count": 139,
      "outputs": []
    },
    {
      "cell_type": "code",
      "source": [
        "def predecir_precio():\n",
        "  numero_dato = int(input(\"Introduce el número de dato: \"))\n",
        "  numero_real = y.iloc[numero_dato]\n",
        "  print(f\"El precio real del dato {numero_dato} es: {numero_real}\")\n",
        "  prediccion = model.predict([x.iloc[numero_dato]])\n",
        "  print(f\"La predicción del precio para el dato {numero_dato} es: {prediccion[0]}\")\n",
        "\n",
        "# Ejemplo de uso\n",
        "predecir_precio()"
      ],
      "metadata": {
        "colab": {
          "base_uri": "https://localhost:8080/"
        },
        "id": "MesIcf7yCSNH",
        "outputId": "3437b67e-d5a5-4ba0-df76-8ac115c92a26"
      },
      "execution_count": 146,
      "outputs": [
        {
          "output_type": "stream",
          "name": "stdout",
          "text": [
            "Introduce el número de dato: 25\n",
            "El precio real del dato 25 es: 418.64\n",
            "La predicción del precio para el dato 25 es: 468.06796016604414\n"
          ]
        }
      ]
    }
  ]
}